{
  "nbformat": 4,
  "nbformat_minor": 0,
  "metadata": {
    "colab": {
      "name": "keyword_extraction_KoBERT.ipynb",
      "provenance": [],
      "collapsed_sections": [],
      "authorship_tag": "ABX9TyNdzDyjcijtCzhh23GulYA8",
      "include_colab_link": true
    },
    "kernelspec": {
      "name": "python3",
      "display_name": "Python 3"
    },
    "language_info": {
      "name": "python"
    }
  },
  "cells": [
    {
      "cell_type": "markdown",
      "metadata": {
        "id": "view-in-github",
        "colab_type": "text"
      },
      "source": [
        "<a href=\"https://colab.research.google.com/github/KevinTheRainmaker/Voice_Keyword_Extraction/blob/main/keyword_extraction_KoBERT.ipynb\" target=\"_parent\"><img src=\"https://colab.research.google.com/assets/colab-badge.svg\" alt=\"Open In Colab\"/></a>"
      ]
    },
    {
      "cell_type": "code",
      "execution_count": 1,
      "metadata": {
        "colab": {
          "base_uri": "https://localhost:8080/"
        },
        "id": "QE7qUm2pvG5i",
        "outputId": "4a3cb85a-65f3-4917-e036-539cd9c8cffb"
      },
      "outputs": [
        {
          "output_type": "stream",
          "name": "stdout",
          "text": [
            "Collecting sentence_transformers\n",
            "  Downloading sentence-transformers-2.2.0.tar.gz (79 kB)\n",
            "\u001b[K     |████████████████████████████████| 79 kB 1.5 MB/s \n",
            "\u001b[?25hCollecting transformers<5.0.0,>=4.6.0\n",
            "  Downloading transformers-4.17.0-py3-none-any.whl (3.8 MB)\n",
            "\u001b[K     |████████████████████████████████| 3.8 MB 11.2 MB/s \n",
            "\u001b[?25hRequirement already satisfied: tqdm in /usr/local/lib/python3.7/dist-packages (from sentence_transformers) (4.63.0)\n",
            "Requirement already satisfied: torch>=1.6.0 in /usr/local/lib/python3.7/dist-packages (from sentence_transformers) (1.10.0+cu111)\n",
            "Requirement already satisfied: torchvision in /usr/local/lib/python3.7/dist-packages (from sentence_transformers) (0.11.1+cu111)\n",
            "Requirement already satisfied: numpy in /usr/local/lib/python3.7/dist-packages (from sentence_transformers) (1.21.5)\n",
            "Requirement already satisfied: scikit-learn in /usr/local/lib/python3.7/dist-packages (from sentence_transformers) (1.0.2)\n",
            "Requirement already satisfied: scipy in /usr/local/lib/python3.7/dist-packages (from sentence_transformers) (1.4.1)\n",
            "Requirement already satisfied: nltk in /usr/local/lib/python3.7/dist-packages (from sentence_transformers) (3.2.5)\n",
            "Collecting sentencepiece\n",
            "  Downloading sentencepiece-0.1.96-cp37-cp37m-manylinux_2_17_x86_64.manylinux2014_x86_64.whl (1.2 MB)\n",
            "\u001b[K     |████████████████████████████████| 1.2 MB 35.8 MB/s \n",
            "\u001b[?25hCollecting huggingface-hub\n",
            "  Downloading huggingface_hub-0.4.0-py3-none-any.whl (67 kB)\n",
            "\u001b[K     |████████████████████████████████| 67 kB 2.5 MB/s \n",
            "\u001b[?25hRequirement already satisfied: typing-extensions in /usr/local/lib/python3.7/dist-packages (from torch>=1.6.0->sentence_transformers) (3.10.0.2)\n",
            "Requirement already satisfied: filelock in /usr/local/lib/python3.7/dist-packages (from transformers<5.0.0,>=4.6.0->sentence_transformers) (3.6.0)\n",
            "Requirement already satisfied: importlib-metadata in /usr/local/lib/python3.7/dist-packages (from transformers<5.0.0,>=4.6.0->sentence_transformers) (4.11.2)\n",
            "Collecting tokenizers!=0.11.3,>=0.11.1\n",
            "  Downloading tokenizers-0.11.6-cp37-cp37m-manylinux_2_12_x86_64.manylinux2010_x86_64.whl (6.5 MB)\n",
            "\u001b[K     |████████████████████████████████| 6.5 MB 9.7 MB/s \n",
            "\u001b[?25hCollecting pyyaml>=5.1\n",
            "  Downloading PyYAML-6.0-cp37-cp37m-manylinux_2_5_x86_64.manylinux1_x86_64.manylinux_2_12_x86_64.manylinux2010_x86_64.whl (596 kB)\n",
            "\u001b[K     |████████████████████████████████| 596 kB 43.9 MB/s \n",
            "\u001b[?25hRequirement already satisfied: regex!=2019.12.17 in /usr/local/lib/python3.7/dist-packages (from transformers<5.0.0,>=4.6.0->sentence_transformers) (2019.12.20)\n",
            "Requirement already satisfied: requests in /usr/local/lib/python3.7/dist-packages (from transformers<5.0.0,>=4.6.0->sentence_transformers) (2.23.0)\n",
            "Requirement already satisfied: packaging>=20.0 in /usr/local/lib/python3.7/dist-packages (from transformers<5.0.0,>=4.6.0->sentence_transformers) (21.3)\n",
            "Collecting sacremoses\n",
            "  Downloading sacremoses-0.0.49-py3-none-any.whl (895 kB)\n",
            "\u001b[K     |████████████████████████████████| 895 kB 44.9 MB/s \n",
            "\u001b[?25hRequirement already satisfied: pyparsing!=3.0.5,>=2.0.2 in /usr/local/lib/python3.7/dist-packages (from packaging>=20.0->transformers<5.0.0,>=4.6.0->sentence_transformers) (3.0.7)\n",
            "Requirement already satisfied: zipp>=0.5 in /usr/local/lib/python3.7/dist-packages (from importlib-metadata->transformers<5.0.0,>=4.6.0->sentence_transformers) (3.7.0)\n",
            "Requirement already satisfied: six in /usr/local/lib/python3.7/dist-packages (from nltk->sentence_transformers) (1.15.0)\n",
            "Requirement already satisfied: idna<3,>=2.5 in /usr/local/lib/python3.7/dist-packages (from requests->transformers<5.0.0,>=4.6.0->sentence_transformers) (2.10)\n",
            "Requirement already satisfied: urllib3!=1.25.0,!=1.25.1,<1.26,>=1.21.1 in /usr/local/lib/python3.7/dist-packages (from requests->transformers<5.0.0,>=4.6.0->sentence_transformers) (1.24.3)\n",
            "Requirement already satisfied: certifi>=2017.4.17 in /usr/local/lib/python3.7/dist-packages (from requests->transformers<5.0.0,>=4.6.0->sentence_transformers) (2021.10.8)\n",
            "Requirement already satisfied: chardet<4,>=3.0.2 in /usr/local/lib/python3.7/dist-packages (from requests->transformers<5.0.0,>=4.6.0->sentence_transformers) (3.0.4)\n",
            "Requirement already satisfied: click in /usr/local/lib/python3.7/dist-packages (from sacremoses->transformers<5.0.0,>=4.6.0->sentence_transformers) (7.1.2)\n",
            "Requirement already satisfied: joblib in /usr/local/lib/python3.7/dist-packages (from sacremoses->transformers<5.0.0,>=4.6.0->sentence_transformers) (1.1.0)\n",
            "Requirement already satisfied: threadpoolctl>=2.0.0 in /usr/local/lib/python3.7/dist-packages (from scikit-learn->sentence_transformers) (3.1.0)\n",
            "Requirement already satisfied: pillow!=8.3.0,>=5.3.0 in /usr/local/lib/python3.7/dist-packages (from torchvision->sentence_transformers) (7.1.2)\n",
            "Building wheels for collected packages: sentence-transformers\n",
            "  Building wheel for sentence-transformers (setup.py) ... \u001b[?25l\u001b[?25hdone\n",
            "  Created wheel for sentence-transformers: filename=sentence_transformers-2.2.0-py3-none-any.whl size=120747 sha256=71980450d26fcdb31a7880a15c51f7f7bf1b385a0eafe2041156696baf2fdfc6\n",
            "  Stored in directory: /root/.cache/pip/wheels/83/c0/df/b6873ab7aac3f2465aa9144b6b4c41c4391cfecc027c8b07e7\n",
            "Successfully built sentence-transformers\n",
            "Installing collected packages: pyyaml, tokenizers, sacremoses, huggingface-hub, transformers, sentencepiece, sentence-transformers\n",
            "  Attempting uninstall: pyyaml\n",
            "    Found existing installation: PyYAML 3.13\n",
            "    Uninstalling PyYAML-3.13:\n",
            "      Successfully uninstalled PyYAML-3.13\n",
            "Successfully installed huggingface-hub-0.4.0 pyyaml-6.0 sacremoses-0.0.49 sentence-transformers-2.2.0 sentencepiece-0.1.96 tokenizers-0.11.6 transformers-4.17.0\n",
            "Collecting konlpy\n",
            "  Downloading konlpy-0.6.0-py2.py3-none-any.whl (19.4 MB)\n",
            "\u001b[K     |████████████████████████████████| 19.4 MB 1.2 MB/s \n",
            "\u001b[?25hRequirement already satisfied: lxml>=4.1.0 in /usr/local/lib/python3.7/dist-packages (from konlpy) (4.2.6)\n",
            "Collecting JPype1>=0.7.0\n",
            "  Downloading JPype1-1.3.0-cp37-cp37m-manylinux_2_5_x86_64.manylinux1_x86_64.whl (448 kB)\n",
            "\u001b[K     |████████████████████████████████| 448 kB 16.1 MB/s \n",
            "\u001b[?25hRequirement already satisfied: numpy>=1.6 in /usr/local/lib/python3.7/dist-packages (from konlpy) (1.21.5)\n",
            "Requirement already satisfied: typing-extensions in /usr/local/lib/python3.7/dist-packages (from JPype1>=0.7.0->konlpy) (3.10.0.2)\n",
            "Installing collected packages: JPype1, konlpy\n",
            "Successfully installed JPype1-1.3.0 konlpy-0.6.0\n"
          ]
        }
      ],
      "source": [
        "!pip install sentence_transformers\n",
        "!pip install konlpy"
      ]
    },
    {
      "cell_type": "code",
      "source": [
        "import numpy as np\n",
        "import itertools\n",
        "\n",
        "from konlpy.tag import Okt\n",
        "from sklearn.feature_extraction.text import CountVectorizer\n",
        "from sklearn.metrics.pairwise import cosine_similarity\n",
        "from sentence_transformers import SentenceTransformer"
      ],
      "metadata": {
        "id": "OsR-0ccHvNsM"
      },
      "execution_count": 2,
      "outputs": []
    },
    {
      "cell_type": "code",
      "source": [
        "model = SentenceTransformer('sentence-transformers/xlm-r-100langs-bert-base-nli-stsb-mean-tokens')"
      ],
      "metadata": {
        "id": "oS8d7WUjPam_"
      },
      "execution_count": 26,
      "outputs": []
    },
    {
      "cell_type": "code",
      "source": [
        "# 2022 수능 국어영역 14~17 독서 지문\n",
        "doc = \"\"\"\n",
        "주차하거나 좁은 길을 지날 때 운전자를 돕는 장치들이 있다. \n",
        "이 중 차량 전후좌우에 장착된 카메라로 촬영한 영상을 이용하여 차량 주위 360°의 상황을 위에서 내려다본 것 같은 영상을 만들어 차 안의 모니터를 통해 운전자에게 제공하는 장치가 있다. \n",
        "운전자에게 제공되는 영상이 어떻게 만들어지는지 알아보자.\n",
        "먼저 차량 주위 바닥에 바둑판 모양의 격자판을 펴 놓고 카메라로 촬영한다. \n",
        "이 장치에서 사용하는 광각 카메라는 큰 시야각을 갖고 있어 사각지대가 줄지만 빛이 렌즈를 지날 때 렌즈 고유의 곡률로 인해 영상이 중심부는 볼록하고 중심부에서 멀수록 더 휘어지는 현상, 즉 렌즈에 의한 상의 왜곡이 발생한다. \n",
        "이 왜곡에 영향을 주는 카메라 자체의 특징을 내부 변수라고 하며 왜곡 계수로 나타낸다. 이를 알 수 있다면 왜곡 모델을 설정하여 왜곡을 보정할 수 있다. \n",
        "한편 차량에 장착된 카메라의 기울어짐 등으로 인해 발생하는 왜곡의 원인을 외부 변수라고 한다.\n",
        "촬영된 영상과 실세계 격자판을 비교하면 영상에서 격자판이 회전한 각도나 격자판의 위치 변화를 통해 카메라의 기울어진 각도 등을 알 수 있으므로 왜곡을 보정할 수 있다.\n",
        "왜곡 보정이 끝나면 영상의 점들에 대응하는 3차원 실세계의 점들을 추정하여 이로부터 원근 효과가 제거된 영상을 얻는 시점 변환이 필요하다. \n",
        "카메라가 3차원 실세계를 2차원 영상으로 투영하면 크기가 동일한 물체라도 카메라로부터 멀리 있을수록 더 작게 나타나는데, 위에서 내려다보는 시점의 영상에서는 거리에 따른 물체의 크기 변화가 없어야 하기 때문이다.\n",
        "왜곡이 보정된 영상에서의 몇 개의 점과 그에 대응하는 실세계 격자판의 점들의 위치를 알고 있다면, 영상의 모든 점들과 격자판의 점들 간의 대응 관계를 가상의 좌표계를 이용하여 기술할 수 있다. \n",
        "이 대응 관계를 이용해서 영상의 점들을 격자의 모양과 격자 간의 상대적인 크기가 실세계에서와 동일하게 유지되도록 한 평면에 놓으면 2차원 영상으로 나타난다.\n",
        "이때 얻은 영상이 위에서 내려다보는 시점의 영상이 된다. 이와 같은 방법으로 구한 각 방향의 영상을 합성하면 차량 주위를 위에서 내려다본 것 같은 영상이 만들어진다.\n",
        "\"\"\""
      ],
      "metadata": {
        "id": "4qG8ubNXvPIO"
      },
      "execution_count": 96,
      "outputs": []
    },
    {
      "cell_type": "code",
      "source": [
        "okt = Okt()\n",
        "\n",
        "tokenized_doc = okt.pos(doc)\n",
        "tokenized_nouns = ' / '.join([word[0] for word in tokenized_doc if word[1] == 'Noun'])\n",
        "\n",
        "print('word_class tagging:',tokenized_doc)\n",
        "print('extract nouns only:',tokenized_nouns)"
      ],
      "metadata": {
        "colab": {
          "base_uri": "https://localhost:8080/"
        },
        "id": "_xogbu2dvQ3m",
        "outputId": "0d212ce8-a10c-4d7c-bd10-f0b05e77fe09"
      },
      "execution_count": 132,
      "outputs": [
        {
          "output_type": "stream",
          "name": "stdout",
          "text": [
            "word_class tagging: [('\\n', 'Foreign'), ('주차', 'Noun'), ('하', 'Suffix'), ('거나', 'Noun'), ('좁은', 'Adjective'), ('길', 'Noun'), ('을', 'Josa'), ('지날', 'Verb'), ('때', 'Noun'), ('운전자', 'Noun'), ('를', 'Josa'), ('돕는', 'Verb'), ('장치', 'Noun'), ('들', 'Suffix'), ('이', 'Josa'), ('있다', 'Adjective'), ('.', 'Punctuation'), ('이', 'Noun'), ('중', 'Noun'), ('차량', 'Noun'), ('전후', 'Noun'), ('좌우', 'Noun'), ('에', 'Josa'), ('장착', 'Noun'), ('된', 'Verb'), ('카메라', 'Noun'), ('로', 'Josa'), ('촬영', 'Noun'), ('한', 'Josa'), ('영상', 'Noun'), ('을', 'Josa'), ('이용', 'Noun'), ('하여', 'Verb'), ('차량', 'Noun'), ('주위', 'Noun'), ('360', 'Number'), ('°', 'Foreign'), ('의', 'Noun'), ('상황', 'Noun'), ('을', 'Josa'), ('위', 'Noun'), ('에서', 'Josa'), ('내려다본', 'Verb'), ('것', 'Noun'), ('같은', 'Adjective'), ('영상', 'Noun'), ('을', 'Josa'), ('만들어', 'Verb'), ('차', 'Noun'), ('안', 'Noun'), ('의', 'Josa'), ('모니터', 'Noun'), ('를', 'Josa'), ('통해', 'Noun'), ('운전자', 'Noun'), ('에게', 'Josa'), ('제공', 'Noun'), ('하는', 'Verb'), ('장치', 'Noun'), ('가', 'Josa'), ('있다', 'Adjective'), ('.', 'Punctuation'), ('운전자', 'Noun'), ('에게', 'Josa'), ('제공', 'Noun'), ('되는', 'Verb'), ('영상', 'Noun'), ('이', 'Josa'), ('어떻게', 'Adjective'), ('만들어지는지', 'Verb'), ('알아보자', 'Verb'), ('.', 'Punctuation'), ('\\n', 'Foreign'), ('먼저', 'Noun'), ('차량', 'Noun'), ('주위', 'Noun'), ('바닥', 'Noun'), ('에', 'Josa'), ('바둑판', 'Noun'), ('모양', 'Noun'), ('의', 'Josa'), ('격자', 'Noun'), ('판', 'Noun'), ('을', 'Josa'), ('펴', 'Verb'), ('놓고', 'Verb'), ('카메라', 'Noun'), ('로', 'Josa'), ('촬영', 'Noun'), ('한다', 'Verb'), ('.', 'Punctuation'), ('이', 'Noun'), ('장치', 'Noun'), ('에서', 'Josa'), ('사용', 'Noun'), ('하는', 'Verb'), ('광각', 'Noun'), ('카메라', 'Noun'), ('는', 'Josa'), ('큰', 'Verb'), ('시야', 'Noun'), ('각', 'Noun'), ('을', 'Josa'), ('갖고', 'Verb'), ('있어', 'Adjective'), ('사', 'Modifier'), ('각', 'Modifier'), ('지', 'Modifier'), ('대가', 'Noun'), ('줄', 'Noun'), ('지만', 'Josa'), ('빛', 'Noun'), ('이', 'Josa'), ('렌즈', 'Noun'), ('를', 'Josa'), ('지날', 'Verb'), ('때', 'Noun'), ('렌즈', 'Noun'), ('고유', 'Noun'), ('의', 'Josa'), ('곡률', 'Noun'), ('로', 'Josa'), ('인해', 'Adjective'), ('영상', 'Noun'), ('이', 'Josa'), ('중심부', 'Noun'), ('는', 'Josa'), ('볼록하고', 'Adjective'), ('중심부', 'Noun'), ('에서', 'Josa'), ('멀수록', 'Adjective'), ('더', 'Noun'), ('휘', 'Noun'), ('어', 'Suffix'), ('지는', 'Josa'), ('현상', 'Noun'), (',', 'Punctuation'), ('즉', 'Noun'), ('렌즈', 'Noun'), ('에', 'Josa'), ('의한', 'Adjective'), ('상의', 'Noun'), ('왜곡', 'Noun'), ('이', 'Josa'), ('발생', 'Noun'), ('한다', 'Verb'), ('.', 'Punctuation'), ('이', 'Noun'), ('왜곡', 'Noun'), ('에', 'Josa'), ('영향', 'Noun'), ('을', 'Josa'), ('주는', 'Verb'), ('카메라', 'Noun'), ('자체', 'Noun'), ('의', 'Josa'), ('특징', 'Noun'), ('을', 'Josa'), ('내부', 'Noun'), ('변수', 'Noun'), ('라고', 'Josa'), ('하며', 'Verb'), ('왜곡', 'Noun'), ('계수', 'Noun'), ('로', 'Josa'), ('나타낸다', 'Verb'), ('.', 'Punctuation'), ('이를', 'Verb'), ('알', 'Noun'), ('수', 'Noun'), ('있다면', 'Adjective'), ('왜곡', 'Noun'), ('모델', 'Noun'), ('을', 'Josa'), ('설정', 'Noun'), ('하여', 'Verb'), ('왜곡', 'Noun'), ('을', 'Josa'), ('보정', 'Noun'), ('할', 'Verb'), ('수', 'Noun'), ('있다', 'Adjective'), ('.', 'Punctuation'), ('한편', 'Noun'), ('차량', 'Noun'), ('에', 'Josa'), ('장착', 'Noun'), ('된', 'Verb'), ('카메라', 'Noun'), ('의', 'Josa'), ('기울어짐', 'Verb'), ('등', 'Noun'), ('으로', 'Josa'), ('인해', 'Adjective'), ('발생', 'Noun'), ('하는', 'Verb'), ('왜곡', 'Noun'), ('의', 'Josa'), ('원인', 'Noun'), ('을', 'Josa'), ('외부', 'Noun'), ('변수', 'Noun'), ('라고', 'Josa'), ('한다', 'Verb'), ('.', 'Punctuation'), ('\\n', 'Foreign'), ('촬영', 'Noun'), ('된', 'Verb'), ('영상', 'Noun'), ('과', 'Josa'), ('실세', 'Noun'), ('계', 'Suffix'), ('격자', 'Noun'), ('판', 'Noun'), ('을', 'Josa'), ('비교', 'Noun'), ('하면', 'Verb'), ('영상', 'Noun'), ('에서', 'Josa'), ('격자', 'Noun'), ('판이', 'Noun'), ('회전', 'Noun'), ('한', 'Josa'), ('각도', 'Noun'), ('나', 'Josa'), ('격자', 'Noun'), ('판', 'Noun'), ('의', 'Josa'), ('위치', 'Noun'), ('변화', 'Noun'), ('를', 'Josa'), ('통해', 'Noun'), ('카메라', 'Noun'), ('의', 'Josa'), ('기울어진', 'Verb'), ('각도', 'Noun'), ('등', 'Noun'), ('을', 'Josa'), ('알', 'Noun'), ('수', 'Noun'), ('있으므로', 'Adjective'), ('왜곡', 'Noun'), ('을', 'Josa'), ('보정', 'Noun'), ('할', 'Verb'), ('수', 'Noun'), ('있다', 'Adjective'), ('.', 'Punctuation'), ('\\n', 'Foreign'), ('왜곡', 'Noun'), ('보정', 'Noun'), ('이', 'Josa'), ('끝나면', 'Verb'), ('영상', 'Noun'), ('의', 'Josa'), ('점', 'Noun'), ('들', 'Suffix'), ('에', 'Josa'), ('대응', 'Noun'), ('하는', 'Verb'), ('3', 'Number'), ('차원', 'Noun'), ('실세', 'Noun'), ('계', 'Suffix'), ('의', 'Josa'), ('점', 'Noun'), ('들', 'Suffix'), ('을', 'Josa'), ('추정', 'Noun'), ('하여', 'Verb'), ('이로', 'Noun'), ('부터', 'Josa'), ('원근', 'Noun'), ('효과', 'Noun'), ('가', 'Josa'), ('제거', 'Noun'), ('된', 'Verb'), ('영상', 'Noun'), ('을', 'Josa'), ('얻는', 'Verb'), ('시점', 'Noun'), ('변환', 'Noun'), ('이', 'Josa'), ('필요하다', 'Adjective'), ('.', 'Punctuation'), ('카메라', 'Noun'), ('가', 'Josa'), ('3', 'Number'), ('차원', 'Noun'), ('실세', 'Noun'), ('계', 'Suffix'), ('를', 'Josa'), ('2', 'Number'), ('차원', 'Noun'), ('영상', 'Noun'), ('으로', 'Josa'), ('투영', 'Noun'), ('하면', 'Verb'), ('크기', 'Noun'), ('가', 'Josa'), ('동일한', 'Adjective'), ('물체', 'Noun'), ('라도', 'Josa'), ('카메라', 'Noun'), ('로부터', 'Noun'), ('멀리', 'Noun'), ('있을수록', 'Adjective'), ('더', 'Noun'), ('작게', 'Adjective'), ('나타나는데', 'Verb'), (',', 'Punctuation'), ('위', 'Noun'), ('에서', 'Josa'), ('내려다보는', 'Verb'), ('시점', 'Noun'), ('의', 'Josa'), ('영상', 'Noun'), ('에서는', 'Josa'), ('거리', 'Noun'), ('에', 'Josa'), ('따른', 'Verb'), ('물체', 'Noun'), ('의', 'Josa'), ('크기', 'Noun'), ('변화', 'Noun'), ('가', 'Josa'), ('없어야', 'Adjective'), ('하기', 'Verb'), ('때문', 'Noun'), ('이다', 'Josa'), ('.', 'Punctuation'), ('\\n', 'Foreign'), ('왜곡', 'Noun'), ('이', 'Josa'), ('보정', 'Noun'), ('된', 'Verb'), ('영상', 'Noun'), ('에서의', 'Josa'), ('몇', 'Noun'), ('개', 'Noun'), ('의', 'Josa'), ('점', 'Noun'), ('과', 'Josa'), ('그', 'Noun'), ('에', 'Josa'), ('대응', 'Noun'), ('하는', 'Verb'), ('실세', 'Noun'), ('계', 'Suffix'), ('격자', 'Noun'), ('판', 'Noun'), ('의', 'Josa'), ('점', 'Noun'), ('들', 'Suffix'), ('의', 'Josa'), ('위치', 'Noun'), ('를', 'Josa'), ('알', 'Noun'), ('고', 'Josa'), ('있다면', 'Adjective'), (',', 'Punctuation'), ('영상', 'Noun'), ('의', 'Josa'), ('모든', 'Noun'), ('점', 'Noun'), ('들', 'Suffix'), ('과', 'Josa'), ('격자', 'Noun'), ('판', 'Noun'), ('의', 'Josa'), ('점', 'Noun'), ('들', 'Suffix'), ('간의', 'Noun'), ('대응', 'Noun'), ('관계', 'Noun'), ('를', 'Josa'), ('가상', 'Noun'), ('의', 'Josa'), ('좌표계', 'Noun'), ('를', 'Josa'), ('이용', 'Noun'), ('하여', 'Verb'), ('기술', 'Noun'), ('할', 'Verb'), ('수', 'Noun'), ('있다', 'Adjective'), ('.', 'Punctuation'), ('이', 'Noun'), ('대응', 'Noun'), ('관계', 'Noun'), ('를', 'Josa'), ('이용', 'Noun'), ('해서', 'Verb'), ('영상', 'Noun'), ('의', 'Josa'), ('점', 'Noun'), ('들', 'Suffix'), ('을', 'Josa'), ('격자', 'Noun'), ('의', 'Josa'), ('모양', 'Noun'), ('과', 'Josa'), ('격자', 'Noun'), ('간의', 'Noun'), ('상대', 'Noun'), ('적', 'Suffix'), ('인', 'Josa'), ('크기', 'Noun'), ('가', 'Josa'), ('실세', 'Noun'), ('계', 'Suffix'), ('에서와', 'Josa'), ('동일하게', 'Adjective'), ('유지', 'Noun'), ('되도록', 'Verb'), ('한', 'Verb'), ('평면', 'Noun'), ('에', 'Josa'), ('놓으면', 'Verb'), ('2', 'Number'), ('차원', 'Noun'), ('영상', 'Noun'), ('으로', 'Josa'), ('나타난다', 'Verb'), ('.', 'Punctuation'), ('\\n', 'Foreign'), ('이', 'Determiner'), ('때', 'Noun'), ('얻은', 'Verb'), ('영상', 'Noun'), ('이', 'Josa'), ('위', 'Noun'), ('에서', 'Josa'), ('내려다보는', 'Verb'), ('시점', 'Noun'), ('의', 'Josa'), ('영상', 'Noun'), ('이', 'Josa'), ('된다', 'Verb'), ('.', 'Punctuation'), ('이', 'Noun'), ('와', 'Josa'), ('같은', 'Adjective'), ('방법', 'Noun'), ('으로', 'Josa'), ('구한', 'Noun'), ('각', 'Noun'), ('방향', 'Noun'), ('의', 'Josa'), ('영상', 'Noun'), ('을', 'Josa'), ('합성', 'Noun'), ('하면', 'Verb'), ('차량', 'Noun'), ('주위', 'Noun'), ('를', 'Josa'), ('위', 'Noun'), ('에서', 'Josa'), ('내려다본', 'Verb'), ('것', 'Noun'), ('같은', 'Adjective'), ('영상', 'Noun'), ('이', 'Josa'), ('만들어진다', 'Verb'), ('.', 'Punctuation'), ('\\n', 'Foreign')]\n",
            "extract nouns only: 주차 / 거나 / 길 / 때 / 운전자 / 장치 / 이 / 중 / 차량 / 전후 / 좌우 / 장착 / 카메라 / 촬영 / 영상 / 이용 / 차량 / 주위 / 의 / 상황 / 위 / 것 / 영상 / 차 / 안 / 모니터 / 통해 / 운전자 / 제공 / 장치 / 운전자 / 제공 / 영상 / 먼저 / 차량 / 주위 / 바닥 / 바둑판 / 모양 / 격자 / 판 / 카메라 / 촬영 / 이 / 장치 / 사용 / 광각 / 카메라 / 시야 / 각 / 대가 / 줄 / 빛 / 렌즈 / 때 / 렌즈 / 고유 / 곡률 / 영상 / 중심부 / 중심부 / 더 / 휘 / 현상 / 즉 / 렌즈 / 상의 / 왜곡 / 발생 / 이 / 왜곡 / 영향 / 카메라 / 자체 / 특징 / 내부 / 변수 / 왜곡 / 계수 / 알 / 수 / 왜곡 / 모델 / 설정 / 왜곡 / 보정 / 수 / 한편 / 차량 / 장착 / 카메라 / 등 / 발생 / 왜곡 / 원인 / 외부 / 변수 / 촬영 / 영상 / 실세 / 격자 / 판 / 비교 / 영상 / 격자 / 판이 / 회전 / 각도 / 격자 / 판 / 위치 / 변화 / 통해 / 카메라 / 각도 / 등 / 알 / 수 / 왜곡 / 보정 / 수 / 왜곡 / 보정 / 영상 / 점 / 대응 / 차원 / 실세 / 점 / 추정 / 이로 / 원근 / 효과 / 제거 / 영상 / 시점 / 변환 / 카메라 / 차원 / 실세 / 차원 / 영상 / 투영 / 크기 / 물체 / 카메라 / 로부터 / 멀리 / 더 / 위 / 시점 / 영상 / 거리 / 물체 / 크기 / 변화 / 때문 / 왜곡 / 보정 / 영상 / 몇 / 개 / 점 / 그 / 대응 / 실세 / 격자 / 판 / 점 / 위치 / 알 / 영상 / 모든 / 점 / 격자 / 판 / 점 / 간의 / 대응 / 관계 / 가상 / 좌표계 / 이용 / 기술 / 수 / 이 / 대응 / 관계 / 이용 / 영상 / 점 / 격자 / 모양 / 격자 / 간의 / 상대 / 크기 / 실세 / 유지 / 평면 / 차원 / 영상 / 때 / 영상 / 위 / 시점 / 영상 / 이 / 방법 / 구한 / 각 / 방향 / 영상 / 합성 / 차량 / 주위 / 위 / 것 / 영상\n"
          ]
        }
      ]
    },
    {
      "cell_type": "code",
      "source": [
        "n_gram_range = (1,2)\n",
        "\n",
        "count = CountVectorizer(ngram_range=n_gram_range).fit([tokenized_nouns])\n",
        "candidates = count.get_feature_names_out()\n",
        "\n",
        "print('# of candidates:',len(candidates))\n",
        "print('candidates:',candidates)"
      ],
      "metadata": {
        "colab": {
          "base_uri": "https://localhost:8080/"
        },
        "id": "8GRcYElGvTgW",
        "outputId": "2599f700-d98c-4fdf-edd3-26428f31c82f"
      },
      "execution_count": 133,
      "outputs": [
        {
          "output_type": "stream",
          "name": "stdout",
          "text": [
            "# of candidates: 226\n",
            "candidates: ['가상' '가상 좌표계' '각도' '각도 격자' '각도 왜곡' '간의' '간의 대응' '간의 상대' '거나' '거나 운전자'\n",
            " '거리' '거리 물체' '격자' '격자 간의' '격자 모양' '격자 비교' '격자 위치' '격자 카메라' '격자 판이' '계수'\n",
            " '계수 왜곡' '고유' '고유 곡률' '곡률' '곡률 영상' '관계' '관계 가상' '관계 이용' '광각' '광각 카메라' '구한'\n",
            " '구한 방향' '기술' '기술 대응' '내부' '내부 변수' '대가' '대가 렌즈' '대응' '대응 관계' '대응 실세'\n",
            " '대응 차원' '때문' '때문 왜곡' '렌즈' '렌즈 고유' '렌즈 렌즈' '렌즈 상의' '로부터' '로부터 멀리' '먼저'\n",
            " '먼저 차량' '멀리' '멀리 시점' '모니터' '모니터 통해' '모델' '모델 설정' '모든' '모든 격자' '모양'\n",
            " '모양 격자' '물체' '물체 카메라' '물체 크기' '바닥' '바닥 바둑판' '바둑판' '바둑판 모양' '발생' '발생 왜곡'\n",
            " '방법' '방법 구한' '방향' '방향 영상' '변수' '변수 왜곡' '변수 촬영' '변화' '변화 때문' '변화 통해' '변환'\n",
            " '변환 카메라' '보정' '보정 영상' '보정 왜곡' '보정 한편' '비교' '비교 영상' '사용' '사용 광각' '상대'\n",
            " '상대 크기' '상의' '상의 왜곡' '상황' '상황 영상' '설정' '설정 왜곡' '시야' '시야 대가' '시점' '시점 변환'\n",
            " '시점 영상' '실세' '실세 격자' '실세 유지' '실세 차원' '실세 추정' '영상' '영상 거리' '영상 격자' '영상 대응'\n",
            " '영상 먼저' '영상 모니터' '영상 모든' '영상 방법' '영상 시점' '영상 실세' '영상 영상' '영상 이용' '영상 중심부'\n",
            " '영상 투영' '영상 합성' '영향' '영향 카메라' '왜곡' '왜곡 계수' '왜곡 모델' '왜곡 발생' '왜곡 보정'\n",
            " '왜곡 영향' '왜곡 원인' '외부' '외부 변수' '운전자' '운전자 장치' '운전자 제공' '원근' '원근 효과' '원인'\n",
            " '원인 외부' '위치' '위치 변화' '위치 영상' '유지' '유지 평면' '이로' '이로 원근' '이용' '이용 기술'\n",
            " '이용 영상' '이용 차량' '자체' '자체 특징' '장착' '장착 카메라' '장치' '장치 사용' '장치 운전자' '장치 차량'\n",
            " '전후' '전후 좌우' '제거' '제거 영상' '제공' '제공 영상' '제공 장치' '좌우' '좌우 장착' '좌표계'\n",
            " '좌표계 이용' '주위' '주위 바닥' '주위 상황' '주위 영상' '주차' '주차 거나' '중심부' '중심부 중심부'\n",
            " '중심부 현상' '차량' '차량 장착' '차량 전후' '차량 주위' '차원' '차원 실세' '차원 영상' '촬영' '촬영 영상'\n",
            " '촬영 장치' '추정' '추정 이로' '카메라' '카메라 각도' '카메라 로부터' '카메라 발생' '카메라 시야' '카메라 자체'\n",
            " '카메라 차원' '카메라 촬영' '크기' '크기 물체' '크기 변화' '크기 실세' '통해' '통해 운전자' '통해 카메라'\n",
            " '투영' '투영 크기' '특징' '특징 내부' '판이' '판이 회전' '평면' '평면 차원' '한편' '한편 차량' '합성'\n",
            " '합성 차량' '현상' '현상 렌즈' '회전' '회전 각도' '효과' '효과 제거']\n"
          ]
        }
      ]
    },
    {
      "cell_type": "code",
      "source": [
        "doc_embedding = model.encode([doc])\n",
        "candidate_embeddings = model.encode(candidates)"
      ],
      "metadata": {
        "id": "8e2tWG61vVPk"
      },
      "execution_count": 134,
      "outputs": []
    },
    {
      "cell_type": "markdown",
      "source": [
        "## Cosine Similarity"
      ],
      "metadata": {
        "id": "rxSwwe1XUi3B"
      }
    },
    {
      "cell_type": "code",
      "source": [
        "top_n = 5\n",
        "distances = cosine_similarity(doc_embedding, candidate_embeddings)\n",
        "keywords = [candidates[index] for index in distances.argsort()[0][-top_n:]]\n",
        "print(keywords)"
      ],
      "metadata": {
        "colab": {
          "base_uri": "https://localhost:8080/"
        },
        "id": "YO9I1H9jvW2x",
        "outputId": "d72ca869-7920-42d1-cb6c-a08e94602c6b"
      },
      "execution_count": 135,
      "outputs": [
        {
          "output_type": "stream",
          "name": "stdout",
          "text": [
            "['거나 운전자', '운전자', '통해 운전자', '차원 영상', '차량 주위']\n"
          ]
        }
      ]
    },
    {
      "cell_type": "markdown",
      "source": [
        "## Max Sum Similarity"
      ],
      "metadata": {
        "id": "lTZB0AVTUl_A"
      }
    },
    {
      "cell_type": "code",
      "source": [
        "def max_sum_sim(doc_embedding, candidate_embeddings, words, top_n, nr_candidates):\n",
        "    distances = cosine_similarity(doc_embedding, candidate_embeddings)\n",
        "\n",
        "    distances_candidates = cosine_similarity(candidate_embeddings, \n",
        "                                            candidate_embeddings)\n",
        "\n",
        "    words_idx = list(distances.argsort()[0][-nr_candidates:])\n",
        "    words_vals = [candidates[index] for index in words_idx]\n",
        "    distances_candidates = distances_candidates[np.ix_(words_idx, words_idx)]\n",
        "\n",
        "    min_sim = np.inf\n",
        "    candidate = None\n",
        "    for combination in itertools.combinations(range(len(words_idx)), top_n):\n",
        "        sim = sum([distances_candidates[i][j] for i in combination for j in combination if i != j])\n",
        "        if sim < min_sim:\n",
        "            candidate = combination\n",
        "            min_sim = sim\n",
        "\n",
        "    return [words_vals[idx] for idx in candidate]"
      ],
      "metadata": {
        "id": "i2Jjh1DZvYSn"
      },
      "execution_count": 136,
      "outputs": []
    },
    {
      "cell_type": "code",
      "source": [
        "max_sum_sim(doc_embedding, candidate_embeddings, candidates, top_n=5, nr_candidates=10)"
      ],
      "metadata": {
        "colab": {
          "base_uri": "https://localhost:8080/"
        },
        "id": "pkuMGguwvaWW",
        "outputId": "775b828d-2fd6-4b9a-e07d-8f7101b51057"
      },
      "execution_count": 137,
      "outputs": [
        {
          "output_type": "execute_result",
          "data": {
            "text/plain": [
              "['주위 영상', '이용 영상', '합성 차량', '운전자', '차량 주위']"
            ]
          },
          "metadata": {},
          "execution_count": 137
        }
      ]
    },
    {
      "cell_type": "code",
      "source": [
        "print((len(candidates)//4))\n",
        "nr_can_can = (len(candidates)//4)"
      ],
      "metadata": {
        "colab": {
          "base_uri": "https://localhost:8080/"
        },
        "id": "LFXF87OVbAEB",
        "outputId": "246d6fc4-a7d2-4671-c84d-868602b03748"
      },
      "execution_count": 138,
      "outputs": [
        {
          "output_type": "stream",
          "name": "stdout",
          "text": [
            "56\n"
          ]
        }
      ]
    },
    {
      "cell_type": "code",
      "source": [
        "%time max_sum_sim(doc_embedding, candidate_embeddings, candidates, top_n=5, nr_candidates=nr_can_can)"
      ],
      "metadata": {
        "colab": {
          "base_uri": "https://localhost:8080/"
        },
        "id": "wXYs8a43vcaO",
        "outputId": "e6ee83f4-76b4-4f4a-e985-a1d3599d5c51"
      },
      "execution_count": 140,
      "outputs": [
        {
          "output_type": "stream",
          "name": "stdout",
          "text": [
            "CPU times: user 48.9 s, sys: 181 ms, total: 49.1 s\n",
            "Wall time: 49.6 s\n"
          ]
        },
        {
          "output_type": "execute_result",
          "data": {
            "text/plain": [
              "['고유 곡률', '기술 대응', '영상 영상', '합성 차량', '차량 주위']"
            ]
          },
          "metadata": {},
          "execution_count": 140
        }
      ]
    },
    {
      "cell_type": "markdown",
      "source": [
        "## Maximal Marginal Relevance"
      ],
      "metadata": {
        "id": "7llSRDtSUp-x"
      }
    },
    {
      "cell_type": "code",
      "source": [
        "def mmr(doc_embedding, candidate_embeddings, words, top_n, diversity):\n",
        "\n",
        "    word_doc_similarity = cosine_similarity(candidate_embeddings, doc_embedding)\n",
        "\n",
        "    word_similarity = cosine_similarity(candidate_embeddings)\n",
        "\n",
        "    keywords_idx = [np.argmax(word_doc_similarity)]\n",
        "\n",
        "    candidates_idx = [i for i in range(len(words)) if i != keywords_idx[0]]\n",
        "\n",
        "    for _ in range(top_n - 1):\n",
        "        candidate_similarities = word_doc_similarity[candidates_idx, :]\n",
        "        target_similarities = np.max(word_similarity[candidates_idx][:, keywords_idx], axis=1)\n",
        "\n",
        "        mmr = (1-diversity) * candidate_similarities - diversity * target_similarities.reshape(-1, 1)\n",
        "        mmr_idx = candidates_idx[np.argmax(mmr)]\n",
        "\n",
        "        keywords_idx.append(mmr_idx)\n",
        "        candidates_idx.remove(mmr_idx)\n",
        "\n",
        "    return [words[idx] for idx in keywords_idx]"
      ],
      "metadata": {
        "id": "53RD0oTNvd-H"
      },
      "execution_count": 149,
      "outputs": []
    },
    {
      "cell_type": "code",
      "source": [
        "%time mmr(doc_embedding, candidate_embeddings, candidates, top_n=5, diversity=0.8)"
      ],
      "metadata": {
        "colab": {
          "base_uri": "https://localhost:8080/"
        },
        "id": "a-bBOGepvi3w",
        "outputId": "65081d91-b070-4f5b-9d0b-40670464957e"
      },
      "execution_count": 150,
      "outputs": [
        {
          "output_type": "stream",
          "name": "stdout",
          "text": [
            "CPU times: user 6.61 ms, sys: 3 ms, total: 9.61 ms\n",
            "Wall time: 9.02 ms\n"
          ]
        },
        {
          "output_type": "execute_result",
          "data": {
            "text/plain": [
              "['차량 주위', '기술 대응', '평면 차원', '왜곡 모델', '제공 영상']"
            ]
          },
          "metadata": {},
          "execution_count": 150
        }
      ]
    },
    {
      "cell_type": "code",
      "source": [
        ""
      ],
      "metadata": {
        "id": "k3LebkpHvkWk"
      },
      "execution_count": 67,
      "outputs": []
    }
  ]
}